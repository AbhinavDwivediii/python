{
  "nbformat": 4,
  "nbformat_minor": 0,
  "metadata": {
    "colab": {
      "provenance": [],
      "authorship_tag": "ABX9TyPebW5V+J5SYhALPN/YvOyE",
      "include_colab_link": true
    },
    "kernelspec": {
      "name": "python3",
      "display_name": "Python 3"
    },
    "language_info": {
      "name": "python"
    }
  },
  "cells": [
    {
      "cell_type": "markdown",
      "metadata": {
        "id": "view-in-github",
        "colab_type": "text"
      },
      "source": [
        "<a href=\"https://colab.research.google.com/github/AbhinavDwivediii/python/blob/main/Untitled5.ipynb\" target=\"_parent\"><img src=\"https://colab.research.google.com/assets/colab-badge.svg\" alt=\"Open In Colab\"/></a>"
      ]
    },
    {
      "cell_type": "code",
      "execution_count": null,
      "metadata": {
        "id": "5gVdbrcnkm3C"
      },
      "outputs": [],
      "source": [
        "def create_account(name, balance=0):\n",
        "    if name not in accounts:\n",
        "        accounts[name] = balance\n",
        "        print(f\"Account created for {name} with balance ${balance}\")\n",
        "    else:\n",
        "        print(\"Account already exists.\")\n",
        "\n",
        "def deposit(name, amount):\n",
        "    if name in accounts:\n",
        "        accounts[name] += amount\n",
        "        print(f\"${amount} deposited into {name}'s account. New balance: ${accounts[name]}\")\n",
        "    else:\n",
        "        print(\"Account does not exist.\")\n",
        "\n",
        "def withdraw(name, amount):\n",
        "    if name in accounts:\n",
        "        if accounts[name] >= amount:\n",
        "            accounts[name] -= amount\n",
        "            print(f\"${amount} withdrawn from {name}'s account. New balance: ${accounts[name]}\")\n",
        "        else:\n",
        "            print(\"Insufficient balance.\")\n",
        "    else:\n",
        "        print(\"Account does not exist.\")\n",
        "\n",
        "def check_balance(name):\n",
        "    if name in accounts:\n",
        "        print(f\"Balance for {name}'s account: ${accounts[name]}\")\n",
        "    else:\n",
        "        print(\"Account does not exist.\")\n",
        "\n",
        "# User interaction loop\n",
        "while True:\n",
        "    print(\"\\n1. Create Account\\n2. Deposit\\n3. Withdraw\\n4. Check Balance\\n5. Exit\")\n",
        "    choice = input(\"Enter your choice: \")\n",
        "\n",
        "    if choice == \"1\":\n",
        "        name = input(\"Enter account holder's name: \")\n",
        "        balance = float(input(\"Enter initial balance: \"))\n",
        "        create_account(name, balance)\n",
        "\n",
        "    elif choice == \"2\":\n",
        "        name = input(\"Enter account holder's name: \")\n",
        "        amount = float(input(\"Enter amount to deposit: \"))\n",
        "        deposit(name, amount)\n",
        "\n",
        "    elif choice == \"3\":\n",
        "        name = input(\"Enter account holder's name: \")\n",
        "        amount = float(input(\"Enter amount to withdraw: \"))\n",
        "        withdraw(name, amount)\n",
        "\n",
        "    elif choice == \"4\":\n",
        "        name = input(\"Enter account holder's name: \")\n",
        "        check_balance(name)\n",
        "\n",
        "    elif choice == \"5\":\n",
        "        print(\"Exiting...\")\n",
        "        break\n",
        "\n",
        "    else:\n",
        "        print(\"Invalid choice. Please try again.\")"
      ]
    }
  ]
}