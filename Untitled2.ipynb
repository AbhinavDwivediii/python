{
  "nbformat": 4,
  "nbformat_minor": 0,
  "metadata": {
    "colab": {
      "provenance": [],
      "authorship_tag": "ABX9TyORHksF0tQH1yf7Vm/pXjcZ",
      "include_colab_link": true
    },
    "kernelspec": {
      "name": "python3",
      "display_name": "Python 3"
    },
    "language_info": {
      "name": "python"
    }
  },
  "cells": [
    {
      "cell_type": "markdown",
      "metadata": {
        "id": "view-in-github",
        "colab_type": "text"
      },
      "source": [
        "<a href=\"https://colab.research.google.com/github/AbhinavDwivediii/python/blob/main/Untitled2.ipynb\" target=\"_parent\"><img src=\"https://colab.research.google.com/assets/colab-badge.svg\" alt=\"Open In Colab\"/></a>"
      ]
    },
    {
      "cell_type": "code",
      "execution_count": null,
      "metadata": {
        "id": "o8tGuRTfmVT8"
      },
      "outputs": [],
      "source": [
        "import random\n",
        "name = input(\"What is your name? \")\n",
        "print(\"Good Luck ! \", name)\n",
        "\n",
        "words = ['rainbow', 'computer', 'science', 'programming',\n",
        "         'python', 'mathematics', 'player', 'condition',\n",
        "         'reverse', 'water', 'board', 'geeks']\n",
        "\n",
        "word = random.choice(words)\n",
        "print(\"Guess the characters\")\n",
        "\n",
        "guesses = ''\n",
        "turns = 12\n",
        "\n",
        "while turns > 0:\n",
        "    failed = 0\n",
        "    for char in word:\n",
        "        if char in guesses:\n",
        "            print(char, end=\" \")\n",
        "\n",
        "        else:\n",
        "            print(\"_\")\n",
        "            failed += 1\n",
        "\n",
        "    if failed == 0:\n",
        "        print(\"You Win\")\n",
        "        print(\"The word is: \", word)\n",
        "        break\n",
        "\n",
        "    print()\n",
        "    guess = input(\"guess a character:\")\n",
        "    guesses += guess\n",
        "\n",
        "    if guess not in word:\n",
        "        turns -= 1\n",
        "        print(\"Wrong\")\n",
        "        print(\"You have\", + turns, 'more guesses')\n",
        "\n",
        "        if turns == 0:\n",
        "            print(\"You Loose\")"
      ]
    }
  ]
}