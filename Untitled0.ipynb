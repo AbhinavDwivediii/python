{
  "nbformat": 4,
  "nbformat_minor": 0,
  "metadata": {
    "colab": {
      "provenance": [],
      "authorship_tag": "ABX9TyMk7j+73hfpHswK0zRzLPZi",
      "include_colab_link": true
    },
    "kernelspec": {
      "name": "python3",
      "display_name": "Python 3"
    },
    "language_info": {
      "name": "python"
    }
  },
  "cells": [
    {
      "cell_type": "markdown",
      "metadata": {
        "id": "view-in-github",
        "colab_type": "text"
      },
      "source": [
        "<a href=\"https://colab.research.google.com/github/AbhinavDwivediii/python/blob/main/Untitled0.ipynb\" target=\"_parent\"><img src=\"https://colab.research.google.com/assets/colab-badge.svg\" alt=\"Open In Colab\"/></a>"
      ]
    },
    {
      "cell_type": "code",
      "execution_count": null,
      "metadata": {
        "colab": {
          "base_uri": "https://localhost:8080/"
        },
        "id": "meSSz31DCkG8",
        "outputId": "87f31e82-7eb1-4496-d6dc-d12dd4e26879"
      },
      "outputs": [
        {
          "metadata": {
            "tags": null
          },
          "name": "stdout",
          "output_type": "stream",
          "text": [
            "Welcome to my computer quiz!\n",
            "Okay! Let's play :)\n"
          ]
        }
      ],
      "source": [
        "print(\"Welcome to my computer quiz!\")\n",
        "\n",
        "playing = input(\"Do you want to play? \")\n",
        "\n",
        "if playing.lower() != \"yes\":\n",
        "    quit()\n",
        "\n",
        "print(\"Okay! Let's play :)\")\n",
        "score = 0\n",
        "\n",
        "answer = input(\"What does CPU stand for? \")\n",
        "if answer.lower() == \"central processing unit\":\n",
        "    print('Correct!')\n",
        "    score += 1\n",
        "else:\n",
        "    print(\"Incorrect!\")\n",
        "\n",
        "answer = input(\"What does GPU stand for? \")\n",
        "if answer.lower() == \"graphics processing unit\":\n",
        "    print('Correct!')\n",
        "    score += 1\n",
        "else:\n",
        "    print(\"Incorrect!\")\n",
        "\n",
        "answer = input(\"What does RAM stand for? \")\n",
        "if answer.lower() == \"random access memory\":\n",
        "    print('Correct!')\n",
        "    score += 1\n",
        "else:\n",
        "    print(\"Incorrect!\")\n",
        "\n",
        "answer = input(\"What does PSU stand for? \")\n",
        "if answer.lower() == \"power supply\":\n",
        "    print('Correct!')\n",
        "    score += 1\n",
        "else:\n",
        "    print(\"Incorrect!\")\n",
        "\n",
        "print(\"You got \" + str(score) + \" questions correct!\")\n",
        "print(\"You got \" + str((score / 4) * 100) + \"%.\")"
      ]
    }
  ]
}