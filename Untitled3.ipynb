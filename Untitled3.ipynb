{
  "nbformat": 4,
  "nbformat_minor": 0,
  "metadata": {
    "colab": {
      "provenance": [],
      "authorship_tag": "ABX9TyNCM6DfNO9o0xhUr0PrTfyX",
      "include_colab_link": true
    },
    "kernelspec": {
      "name": "python3",
      "display_name": "Python 3"
    },
    "language_info": {
      "name": "python"
    }
  },
  "cells": [
    {
      "cell_type": "markdown",
      "metadata": {
        "id": "view-in-github",
        "colab_type": "text"
      },
      "source": [
        "<a href=\"https://colab.research.google.com/github/AbhinavDwivediii/python/blob/main/Untitled3.ipynb\" target=\"_parent\"><img src=\"https://colab.research.google.com/assets/colab-badge.svg\" alt=\"Open In Colab\"/></a>"
      ]
    },
    {
      "cell_type": "code",
      "execution_count": null,
      "metadata": {
        "id": "ALYUt1ZDpcVF"
      },
      "outputs": [],
      "source": [
        "\n",
        "def decimal_to_binary(decimal):\n",
        "    return bin(decimal)[2:]  # Remove the '0b' prefix\n",
        "\n",
        "def binary_to_decimal(binary):\n",
        "    return int(binary, 2)\n",
        "\n",
        "def decimal_to_octal(decimal):\n",
        "    return oct(decimal)[2:]  # Remove the '0o' prefix\n",
        "\n",
        "def octal_to_decimal(octal):\n",
        "    return int(octal, 8)\n",
        "\n",
        "def decimal_to_hexadecimal(decimal):\n",
        "    return hex(decimal)[2:]  # Remove the '0x' prefix\n",
        "\n",
        "def hexadecimal_to_decimal(hexadecimal):\n",
        "    return int(hexadecimal, 16)\n",
        "\n",
        "def get_number():\n",
        "    while True:\n",
        "        try:\n",
        "            number = input(\"Enter the number: \").strip()\n",
        "            int(number)\n",
        "            return number\n",
        "        except ValueError:\n",
        "            print(\"Invalid number. Please try again.\")\n",
        "\n",
        "\n",
        "def get_base():\n",
        "    while True:\n",
        "        try:\n",
        "            base = int(input(\"Enter the base (2 for binary, 8 for octal, 10 for decimal, 16 for hexadecimal): \"))\n",
        "            if base not in [2, 8, 10, 16]:\n",
        "                raise ValueError(\"Invalid base. Please enter 2, 8, 10, or 16.\")\n",
        "            return base\n",
        "        except ValueError as e:\n",
        "            print(e)\n",
        "\n",
        "def convert_number(number, from_base, to_base):\n",
        "    try:\n",
        "        if from_base == 10:\n",
        "            decimal_number = int(number)\n",
        "        elif from_base == 2:\n",
        "            decimal_number = binary_to_decimal(number)\n",
        "        elif from_base == 8:\n",
        "            decimal_number = octal_to_decimal(number)\n",
        "        elif from_base == 16:\n",
        "            decimal_number = hexadecimal_to_decimal(number)\n",
        "        else:\n",
        "            return \"Invalid conversion\"\n",
        "\n",
        "        if to_base == 10:\n",
        "            return str(decimal_number)\n",
        "        elif to_base == 2:\n",
        "            return decimal_to_binary(decimal_number)\n",
        "        elif to_base == 8:\n",
        "            return decimal_to_octal(decimal_number)\n",
        "        elif to_base == 16:\n",
        "            return decimal_to_hexadecimal(decimal_number)\n",
        "        else:\n",
        "            return \"Invalid conversion\"\n",
        "    except ValueError:\n",
        "        return \"Invalid number format for the given base.\"\n",
        "\n",
        "\n",
        "def main():\n",
        "    print(\"Welcome to Number System Converter\")\n",
        "\n",
        "    number = get_number()\n",
        "    from_base = get_base()\n",
        "    to_base = get_base()\n",
        "\n",
        "    converted_number = convert_number(number, from_base, to_base)\n",
        "\n",
        "    print(f\"{number} base {from_base} is equal to {converted_number} base {to_base}\")\n",
        "\n",
        "\n",
        "if __name__ == \"__main__\":\n",
        "    main()"
      ]
    }
  ]
}