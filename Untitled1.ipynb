{
  "nbformat": 4,
  "nbformat_minor": 0,
  "metadata": {
    "colab": {
      "provenance": [],
      "authorship_tag": "ABX9TyMtM27kDnEO8FVEIc7t27He",
      "include_colab_link": true
    },
    "kernelspec": {
      "name": "python3",
      "display_name": "Python 3"
    },
    "language_info": {
      "name": "python"
    }
  },
  "cells": [
    {
      "cell_type": "markdown",
      "metadata": {
        "id": "view-in-github",
        "colab_type": "text"
      },
      "source": [
        "<a href=\"https://colab.research.google.com/github/AbhinavDwivediii/python/blob/main/Untitled1.ipynb\" target=\"_parent\"><img src=\"https://colab.research.google.com/assets/colab-badge.svg\" alt=\"Open In Colab\"/></a>"
      ]
    },
    {
      "cell_type": "code",
      "execution_count": null,
      "metadata": {
        "id": "cgJS3pUWHn38"
      },
      "outputs": [],
      "source": [
        "def get_user_details():\n",
        "    \"\"\"\n",
        "    Get user details such as name, destination, and ticket class.\n",
        "    \"\"\"\n",
        "    name = input(\"Enter your name: \")\n",
        "    destination = input(\"Enter your destination: \")\n",
        "    ticket_class = input(\"Enter ticket class (1st/2nd/3rd): \")\n",
        "    return name, destination, ticket_class\n",
        "\n",
        "def generate_ticket(name, destination, ticket_class):\n",
        "    \"\"\"\n",
        "    Generate a railway ticket based on user details.\n",
        "    \"\"\"\n",
        "    print(\"\\n--- Railway Ticket ---\")\n",
        "    print(f\"Passenger Name: {name}\")\n",
        "    print(f\"Destination: {destination}\")\n",
        "    print(f\"Class: {ticket_class}\")\n",
        "    print(\"Thank you for choosing our services. Have a safe journey!\")\n",
        "\n",
        "if __name__ == \"__main__\":\n",
        "    user_name, user_destination, user_class = get_user_details()\n",
        "    generate_ticket(user_name, user_destination, user_class)\n"
      ]
    }
  ]
}